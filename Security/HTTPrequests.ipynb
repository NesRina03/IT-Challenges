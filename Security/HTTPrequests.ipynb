{
 "cells": [
  {
   "cell_type": "markdown",
   "metadata": {},
   "source": [
    "## IT Challenges- Cybersecurity\n",
    "### Simple HTTP Requests Challenge"
   ]
  },
  {
   "cell_type": "code",
   "execution_count": 1,
   "metadata": {},
   "outputs": [],
   "source": [
    "import requests\n",
    "\n",
    "def check_website(url):\n",
    "    head = requests.head(url)\n",
    "    print(\"\\n-------Server Reachability-------\")\n",
    "    if head.status_code == 200:\n",
    "        print(\"Server is alive\")\n",
    "    else:\n",
    "        print(\"Warning, error code: \", head.status_code)\n",
    "\n",
    "    print(\"\\n-------Server Details-------\")\n",
    "    get=requests.get(url)\n",
    "    server=get.headers['Server']\n",
    "    print(\"Server: \", server)\n",
    "    \n",
    "    print(\"\\n-------Allowed Methods-------\")\n",
    "    opt=requests.options(url)\n",
    "    if 'Allow' in opt.headers:\n",
    "        methods=opt.headers['Allow']\n",
    "        print(\"Methods: \", methods)\n",
    "    else:\n",
    "        print(\"No allowed methods found :( \")\n",
    "    \n",
    "    #timeout period exeeded\n",
    "    "
   ]
  },
  {
   "cell_type": "code",
   "execution_count": 2,
   "metadata": {},
   "outputs": [
    {
     "name": "stdout",
     "output_type": "stream",
     "text": [
      "-------URL Checker-------\n",
      "Welcome user! please enter the URL you wish to check below:\n",
      "\n",
      "-------Server Reachability-------\n",
      "Warning, error code:  403\n",
      "\n",
      "-------Server Details-------\n",
      "Server:  cloudflare\n",
      "\n",
      "-------Allowed Methods-------\n",
      "No allowed methods found :( \n"
     ]
    }
   ],
   "source": [
    "print(\"-------URL Checker-------\")\n",
    "print(\"Welcome user! please enter the URL you wish to check below:\")\n",
    "url=input()\n",
    "check_website(url)\n"
   ]
  }
 ],
 "metadata": {
  "kernelspec": {
   "display_name": "Python 3",
   "language": "python",
   "name": "python3"
  },
  "language_info": {
   "codemirror_mode": {
    "name": "ipython",
    "version": 3
   },
   "file_extension": ".py",
   "mimetype": "text/x-python",
   "name": "python",
   "nbconvert_exporter": "python",
   "pygments_lexer": "ipython3",
   "version": "3.12.8"
  }
 },
 "nbformat": 4,
 "nbformat_minor": 2
}
